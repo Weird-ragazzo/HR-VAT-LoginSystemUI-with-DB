{
  "nbformat": 4,
  "nbformat_minor": 0,
  "metadata": {
    "colab": {
      "provenance": []
    },
    "kernelspec": {
      "name": "python3",
      "display_name": "Python 3"
    },
    "language_info": {
      "name": "python"
    }
  },
  "cells": [
    {
      "cell_type": "code",
      "source": [
        "!pip install supabase"
      ],
      "metadata": {
        "id": "rvJsWMVoxW-f"
      },
      "execution_count": null,
      "outputs": []
    },
    {
      "cell_type": "code",
      "source": [
        "import tkinter as tk\n",
        "from tkinter import messagebox\n",
        "from datetime import datetime\n",
        "from supabase import create_client, Client"
      ],
      "metadata": {
        "id": "rlFhwFfhxdeG"
      },
      "execution_count": 2,
      "outputs": []
    },
    {
      "cell_type": "code",
      "source": [
        "url: str = \"\"\n",
        "key: str = \"\"\n",
        "\n",
        "supabase: Client = create_client(url, key)"
      ],
      "metadata": {
        "id": "jkwH4nupxX1t"
      },
      "execution_count": 3,
      "outputs": []
    },
    {
      "cell_type": "code",
      "source": [
        "def login1(username, password):\n",
        "    data = supabase.table(\"users\").select(\"password_hash\").eq(\"username\", username).execute()\n",
        "    # print(data.data)\n",
        "    if data.data:\n",
        "      return data.data[0][\"password_hash\"] == password\n",
        "    else:\n",
        "      return \"No user found\""
      ],
      "metadata": {
        "id": "Mt0IvV_bxb20"
      },
      "execution_count": 8,
      "outputs": []
    },
    {
      "cell_type": "code",
      "execution_count": 9,
      "metadata": {
        "id": "4rNcfJaaxTEE"
      },
      "outputs": [],
      "source": [
        "\n",
        "users = {\"john_doe\": \"hashed_password\"}\n",
        "login_attempts = {}\n",
        "blocked_users = {}\n",
        "\n",
        "def login(username, password):\n",
        "    global login_attempts, blocked_users\n",
        "    now = datetime.now()\n",
        "\n",
        "    if username in blocked_users:\n",
        "        messagebox.showerror(\"Blocked\", f\"Account blocked at {blocked_users[username]}\")\n",
        "        return\n",
        "\n",
        "    if username in users and login1(username, password):\n",
        "        messagebox.showinfo(\"Success\", \"Login Successful\")\n",
        "        login_attempts[username] = 0\n",
        "    else:\n",
        "        login_attempts[username] = login_attempts.get(username, 0) + 1\n",
        "        if login_attempts[username] > 3:\n",
        "            blocked_users[username] = now.strftime('%Y-%m-%d %H:%M:%S')\n",
        "            messagebox.showerror(\"Blocked\", \"Account is blocked due to multiple failed attempts\")\n",
        "        else:\n",
        "            messagebox.showerror(\"Error\", \"Invalid Credentials\")\n",
        "\n",
        "def create_login_ui():\n",
        "    root = tk.Tk()\n",
        "    root.title(\"Login System\")\n",
        "    root.geometry(\"350x400\")\n",
        "    root.configure(bg=\"#2C2F33\")\n",
        "\n",
        "    tk.Label(root, text=\"Login\", font=(\"Arial\", 20, \"bold\"), bg=\"#2C2F33\", fg=\"#FFFFFF\").pack(pady=20)\n",
        "\n",
        "    tk.Label(root, text=\"Username\", bg=\"#2C2F33\", fg=\"#FFFFFF\").pack()\n",
        "    username_entry = tk.Entry(root)\n",
        "    username_entry.pack(pady=5)\n",
        "\n",
        "    tk.Label(root, text=\"Password\", bg=\"#2C2F33\", fg=\"#FFFFFF\").pack()\n",
        "    password_entry = tk.Entry(root, show=\"*\")\n",
        "    password_entry.pack(pady=5)\n",
        "\n",
        "    def attempt_login():\n",
        "        login(username_entry.get(), password_entry.get())\n",
        "\n",
        "    tk.Button(root, text=\"Login\", command=attempt_login, bg=\"#7289DA\", fg=\"white\").pack(pady=20)\n",
        "\n",
        "    root.mainloop()\n",
        "\n",
        "create_login_ui()\n"
      ]
    },
    {
      "cell_type": "code",
      "source": [],
      "metadata": {
        "id": "hXoOpnfbx8Ow"
      },
      "execution_count": null,
      "outputs": []
    }
  ]
}